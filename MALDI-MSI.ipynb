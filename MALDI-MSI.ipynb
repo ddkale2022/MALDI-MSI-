{
 "cells": [
  {
   "cell_type": "markdown",
   "metadata": {},
   "source": [
    "# Data Description\n",
    "\n",
    "## Context\n",
    "This dataset is originally from Gastroenterology, Justus Liebig University Giessen, 35392, Giessen, Germany. The objective of the dataset is to better understand the different levels of host–pathogen interaction and pathology,  and the characterization of glycosphingolipids (GSLs)\n",
    "\n",
    "## Acknowledgements\n",
    " [David Luh, Sven Heiles, Martin Roderfeld, Christoph G. Grevelding, Elke Roeb and Bernhard Spengler* (2024). Hepatic Topology of Glycosphingolipids in Schistosoma mansoni-Infected Hamsters. In Anal. Chem. 2024, 96, 16, 6311–6320](https://pubs.acs.org/doi/10.1021/acs.analchem.3c05846)\n",
    "\n",
    "\n",
    "## About this dataset\n",
    "The particular data used in the project is downloaded from METASPACE from [here](https://metaspace2020.eu/dataset/2023-10-24_11h23m09s)"
   ]
  },
  {
   "cell_type": "markdown",
   "metadata": {},
   "source": [
    "# Data Analysis with Cardinal"
   ]
  },
  {
   "cell_type": "code",
   "execution_count": null,
   "metadata": {},
   "outputs": [],
   "source": [
    "if (!requireNamespace(\"BiocManager\", quietly = TRUE))\n",
    "    install.packages(\"BiocManager\")\n",
    "BiocManager::install(\"Cardinal\")"
   ]
  },
  {
   "cell_type": "code",
   "execution_count": null,
   "metadata": {},
   "outputs": [],
   "source": [
    "library(Cardinal)"
   ]
  },
  {
   "cell_type": "markdown",
   "metadata": {},
   "source": [
    "\n"
   ]
  },
  {
   "cell_type": "code",
   "execution_count": 2,
   "metadata": {},
   "outputs": [
    {
     "name": "stderr",
     "output_type": "stream",
     "text": [
      "Loading required package: ProtGenerics\n",
      "\n",
      "\n",
      "Attaching package: 'ProtGenerics'\n",
      "\n",
      "\n",
      "The following object is masked from 'package:stats':\n",
      "\n",
      "    smooth\n",
      "\n",
      "\n",
      "Loading required package: BiocGenerics\n",
      "\n",
      "\n",
      "Attaching package: 'BiocGenerics'\n",
      "\n",
      "\n",
      "The following objects are masked from 'package:stats':\n",
      "\n",
      "    IQR, mad, sd, var, xtabs\n",
      "\n",
      "\n",
      "The following objects are masked from 'package:base':\n",
      "\n",
      "    anyDuplicated, aperm, append, as.data.frame, basename, cbind,\n",
      "    colnames, dirname, do.call, duplicated, eval, evalq, Filter, Find,\n",
      "    get, grep, grepl, intersect, is.unsorted, lapply, Map, mapply,\n",
      "    match, mget, order, paste, pmax, pmax.int, pmin, pmin.int,\n",
      "    Position, rank, rbind, Reduce, rownames, sapply, setdiff, table,\n",
      "    tapply, union, unique, unsplit, which.max, which.min\n",
      "\n",
      "\n",
      "Loading required package: BiocParallel\n",
      "\n",
      "Loading required package: S4Vectors\n",
      "\n",
      "Loading required package: stats4\n",
      "\n",
      "\n",
      "Attaching package: 'S4Vectors'\n",
      "\n",
      "\n",
      "The following object is masked from 'package:utils':\n",
      "\n",
      "    findMatches\n",
      "\n",
      "\n",
      "The following objects are masked from 'package:base':\n",
      "\n",
      "    expand.grid, I, unname\n",
      "\n",
      "\n",
      "Cardinal v3.6 is a major update.\n",
      "Use vignette('Cardinal3-guide') to see what's new.\n",
      "\n"
     ]
    },
    {
     "data": {
      "text/plain": [
       "MSImagingArrays with 61400 spectra \n",
       "spectraData(2): mz, intensity\n",
       "pixelData(3): x, y, run\n",
       "coord(2): x = 1...307, y = 1...200\n",
       "runNames(1): F2_liver_bs-infected_hamster\n",
       "experimentData(7): spectrumType, spectrumRepresentation, contactName, ..., contactEmail, instrumentModel, pixelSize\n",
       "centroided: TRUE \n",
       "continuous: FALSE "
      ]
     },
     "metadata": {},
     "output_type": "display_data"
    },
    {
     "data": {
      "text/plain": [
       "<61400 length> matter_list :: out-of-memory list\n",
       "             [1]      [2]      [3]      [4]      [5]      [6] ...\n",
       "$Scan=1 709.9389 714.3127 734.2728 736.0455 741.0827 752.1255 ...\n",
       "             [1]      [2]      [3]      [4]      [5]      [6] ...\n",
       "$Scan=2 707.0722 708.0758 709.4698 709.9339 709.9438 710.4650 ...\n",
       "             [1]      [2]      [3]      [4]      [5]      [6] ...\n",
       "$Scan=3 703.1005 705.5126 706.0646 707.0725 707.1751 708.0752 ...\n",
       "             [1]      [2]      [3]      [4]      [5]      [6] ...\n",
       "$Scan=4 706.0634 707.0724 708.0777 709.0768 709.9393 712.0681 ...\n",
       "             [1]      [2]      [3]      [4]      [5]      [6] ...\n",
       "$Scan=5 705.5124 706.5151 707.0726 708.0760 709.9362 709.9457 ...\n",
       "             [1]      [2]      [3]      [4]      [5]      [6] ...\n",
       "$Scan=6 705.0485 705.5120 706.0638 707.0725 708.0754 708.2353 ...\n",
       "...\n",
       "(6.15 MB real | 293 MB virtual)"
      ]
     },
     "metadata": {},
     "output_type": "display_data"
    },
    {
     "data": {
      "text/plain": [
       "<61400 length> matter_list :: out-of-memory list\n",
       "              [1]       [2]       [3]       [4]       [5]       [6] ...\n",
       "$Scan=1 513.83661  70.44469  56.08697  58.55112  55.96539  61.28626 ...\n",
       "              [1]       [2]       [3]       [4]       [5]       [6] ...\n",
       "$Scan=2 500.52844 132.70403  62.59430 190.40161 239.92535  58.76639 ...\n",
       "              [1]       [2]       [3]       [4]       [5]       [6] ...\n",
       "$Scan=3 119.50774  71.53461  93.96964 345.98029  53.94270 164.54970 ...\n",
       "              [1]       [2]       [3]       [4]       [5]       [6] ...\n",
       "$Scan=4 123.57072 431.74521  67.47224  64.08582 497.98672  60.79632 ...\n",
       "              [1]       [2]       [3]       [4]       [5]       [6] ...\n",
       "$Scan=5 127.70343  72.11727 374.27628  93.63570 386.98755 113.13115 ...\n",
       "              [1]       [2]       [3]       [4]       [5]       [6] ...\n",
       "$Scan=6  61.45592  77.15719  95.97279 412.46664 191.18527  57.92792 ...\n",
       "...\n",
       "(6.15 MB real | 146.5 MB virtual)"
      ]
     },
     "metadata": {},
     "output_type": "display_data"
    },
    {
     "data": {
      "text/plain": [
       "<61400 length> matter_list :: out-of-memory list\n",
       "             [1]      [2]      [3]      [4]      [5]      [6] ...\n",
       "$Scan=1 709.9389 714.3127 734.2728 736.0455 741.0827 752.1255 ...\n",
       "             [1]      [2]      [3]      [4]      [5]      [6] ...\n",
       "$Scan=2 707.0722 708.0758 709.4698 709.9339 709.9438 710.4650 ...\n",
       "             [1]      [2]      [3]      [4]      [5]      [6] ...\n",
       "$Scan=3 703.1005 705.5126 706.0646 707.0725 707.1751 708.0752 ...\n",
       "             [1]      [2]      [3]      [4]      [5]      [6] ...\n",
       "$Scan=4 706.0634 707.0724 708.0777 709.0768 709.9393 712.0681 ...\n",
       "             [1]      [2]      [3]      [4]      [5]      [6] ...\n",
       "$Scan=5 705.5124 706.5151 707.0726 708.0760 709.9362 709.9457 ...\n",
       "             [1]      [2]      [3]      [4]      [5]      [6] ...\n",
       "$Scan=6 705.0485 705.5120 706.0638 707.0725 708.0754 708.2353 ...\n",
       "...\n",
       "(6.15 MB real | 293 MB virtual)"
      ]
     },
     "metadata": {},
     "output_type": "display_data"
    },
    {
     "data": {
      "text/plain": [
       "<61400 length> matter_list :: out-of-memory list\n",
       "              [1]       [2]       [3]       [4]       [5]       [6] ...\n",
       "$Scan=1 513.83661  70.44469  56.08697  58.55112  55.96539  61.28626 ...\n",
       "              [1]       [2]       [3]       [4]       [5]       [6] ...\n",
       "$Scan=2 500.52844 132.70403  62.59430 190.40161 239.92535  58.76639 ...\n",
       "              [1]       [2]       [3]       [4]       [5]       [6] ...\n",
       "$Scan=3 119.50774  71.53461  93.96964 345.98029  53.94270 164.54970 ...\n",
       "              [1]       [2]       [3]       [4]       [5]       [6] ...\n",
       "$Scan=4 123.57072 431.74521  67.47224  64.08582 497.98672  60.79632 ...\n",
       "              [1]       [2]       [3]       [4]       [5]       [6] ...\n",
       "$Scan=5 127.70343  72.11727 374.27628  93.63570 386.98755 113.13115 ...\n",
       "              [1]       [2]       [3]       [4]       [5]       [6] ...\n",
       "$Scan=6  61.45592  77.15719  95.97279 412.46664 191.18527  57.92792 ...\n",
       "...\n",
       "(6.15 MB real | 146.5 MB virtual)"
      ]
     },
     "metadata": {},
     "output_type": "display_data"
    },
    {
     "data": {
      "text/plain": [
       "PositionDataFrame with 61400 rows and 3 columns\n",
       "                   x         y                          run\n",
       "           <numeric> <numeric>                     <factor>\n",
       "Scan=1             1         1 F2_liver_bs-infected_hamster\n",
       "Scan=2             2         1 F2_liver_bs-infected_hamster\n",
       "Scan=3             3         1 F2_liver_bs-infected_hamster\n",
       "Scan=4             4         1 F2_liver_bs-infected_hamster\n",
       "Scan=5             5         1 F2_liver_bs-infected_hamster\n",
       "...              ...       ...                          ...\n",
       "Scan=61396       303       200 F2_liver_bs-infected_hamster\n",
       "Scan=61397       304       200 F2_liver_bs-infected_hamster\n",
       "Scan=61398       305       200 F2_liver_bs-infected_hamster\n",
       "Scan=61399       306       200 F2_liver_bs-infected_hamster\n",
       "Scan=61400       307       200 F2_liver_bs-infected_hamster\n",
       "coord(2): x, y\n",
       "run(1): run"
      ]
     },
     "metadata": {},
     "output_type": "display_data"
    },
    {
     "data": {
      "text/plain": [
       "PositionDataFrame with 61400 rows and 3 columns\n",
       "                   x         y                          run\n",
       "           <numeric> <numeric>                     <factor>\n",
       "Scan=1             1         1 F2_liver_bs-infected_hamster\n",
       "Scan=2             2         1 F2_liver_bs-infected_hamster\n",
       "Scan=3             3         1 F2_liver_bs-infected_hamster\n",
       "Scan=4             4         1 F2_liver_bs-infected_hamster\n",
       "Scan=5             5         1 F2_liver_bs-infected_hamster\n",
       "...              ...       ...                          ...\n",
       "Scan=61396       303       200 F2_liver_bs-infected_hamster\n",
       "Scan=61397       304       200 F2_liver_bs-infected_hamster\n",
       "Scan=61398       305       200 F2_liver_bs-infected_hamster\n",
       "Scan=61399       306       200 F2_liver_bs-infected_hamster\n",
       "Scan=61400       307       200 F2_liver_bs-infected_hamster\n",
       "coord(2): x, y\n",
       "run(1): run"
      ]
     },
     "metadata": {},
     "output_type": "display_data"
    },
    {
     "data": {
      "text/plain": [
       "DataFrame with 61400 rows and 2 columns\n",
       "                   x         y\n",
       "           <numeric> <numeric>\n",
       "Scan=1             1         1\n",
       "Scan=2             2         1\n",
       "Scan=3             3         1\n",
       "Scan=4             4         1\n",
       "Scan=5             5         1\n",
       "...              ...       ...\n",
       "Scan=61396       303       200\n",
       "Scan=61397       304       200\n",
       "Scan=61398       305       200\n",
       "Scan=61399       306       200\n",
       "Scan=61400       307       200"
      ]
     },
     "metadata": {},
     "output_type": "display_data"
    },
    {
     "data": {
      "text/html": [
       "'F2_liver_bs-infected_hamster'"
      ],
      "text/latex": [
       "'F2\\_liver\\_bs-infected\\_hamster'"
      ],
      "text/markdown": [
       "'F2_liver_bs-infected_hamster'"
      ],
      "text/plain": [
       "[1] \"F2_liver_bs-infected_hamster\""
      ]
     },
     "metadata": {},
     "output_type": "display_data"
    },
    {
     "data": {
      "text/html": [
       "<style>\n",
       ".list-inline {list-style: none; margin:0; padding: 0}\n",
       ".list-inline>li {display: inline-block}\n",
       ".list-inline>li:not(:last-child)::after {content: \"\\00b7\"; padding: 0 .5ex}\n",
       "</style>\n",
       "<ol class=list-inline><li>F2_liver_bs-infected_hamster</li><li>F2_liver_bs-infected_hamster</li><li>F2_liver_bs-infected_hamster</li><li>F2_liver_bs-infected_hamster</li><li>F2_liver_bs-infected_hamster</li><li>F2_liver_bs-infected_hamster</li></ol>\n",
       "\n",
       "<details>\n",
       "\t<summary style=display:list-item;cursor:pointer>\n",
       "\t\t<strong>Levels</strong>:\n",
       "\t</summary>\n",
       "\t'F2_liver_bs-infected_hamster'\n",
       "</details>"
      ],
      "text/latex": [
       "\\begin{enumerate*}\n",
       "\\item F2\\_liver\\_bs-infected\\_hamster\n",
       "\\item F2\\_liver\\_bs-infected\\_hamster\n",
       "\\item F2\\_liver\\_bs-infected\\_hamster\n",
       "\\item F2\\_liver\\_bs-infected\\_hamster\n",
       "\\item F2\\_liver\\_bs-infected\\_hamster\n",
       "\\item F2\\_liver\\_bs-infected\\_hamster\n",
       "\\end{enumerate*}\n",
       "\n",
       "\\emph{Levels}: 'F2\\_liver\\_bs-infected\\_hamster'"
      ],
      "text/markdown": [
       "1. F2_liver_bs-infected_hamster\n",
       "2. F2_liver_bs-infected_hamster\n",
       "3. F2_liver_bs-infected_hamster\n",
       "4. F2_liver_bs-infected_hamster\n",
       "5. F2_liver_bs-infected_hamster\n",
       "6. F2_liver_bs-infected_hamster\n",
       "\n",
       "\n",
       "\n",
       "**Levels**: 'F2_liver_bs-infected_hamster'"
      ],
      "text/plain": [
       "[1] F2_liver_bs-infected_hamster F2_liver_bs-infected_hamster\n",
       "[3] F2_liver_bs-infected_hamster F2_liver_bs-infected_hamster\n",
       "[5] F2_liver_bs-infected_hamster F2_liver_bs-infected_hamster\n",
       "Levels: F2_liver_bs-infected_hamster"
      ]
     },
     "metadata": {},
     "output_type": "display_data"
    },
    {
     "data": {
      "text/plain": [
       "MSImagingExperiment with 6 features and 61400 spectra \n",
       "spectraData(1): intensity\n",
       "featureData(1): mz\n",
       "pixelData(3): x, y, run\n",
       "coord(2): x = 1...307, y = 1...200\n",
       "runNames(1): F2_liver_bs-infected_hamster\n",
       "experimentData(7): spectrumType, spectrumRepresentation, contactName, ..., contactEmail, instrumentModel, pixelSize\n",
       "mass range: 700.048 to 700.262 \n",
       "centroided: TRUE "
      ]
     },
     "metadata": {},
     "output_type": "display_data"
    },
    {
     "data": {
      "image/png": "[encoded data removed]",
      "text/plain": [
       "plot without title"
      ]
     },
     "metadata": {
      "image/png": {
       "height": 420,
       "width": 420
      }
     },
     "output_type": "display_data"
    }
   ],
   "source": [
    "#Unzip the data\n",
    "unzip(\"data.zip\")\n",
    "\n",
    "#Loading data\n",
    "#To load MSI data, use the readMSIData function\n",
    "\n",
    "df <- readMSIData(\"data/F2_liver_bs-infected_hamster.imzML\")\n",
    "\n",
    "#Inspecting Data\n",
    "# inspect Spectra\n",
    "spectra(df, \"mz\")\n",
    "spectra(df, \"intensity\")\n",
    "\n",
    "#Mass-to-Charge Ratios (m/z):\n",
    "\n",
    "mz(df)\n",
    "\n",
    "# Intensity data\n",
    "intensity(df)\n",
    "\n",
    "#Pixel data\n",
    "pixelData(df)\n",
    "\n",
    "# Phenotypic data\n",
    "pData(df)\n",
    "\n",
    "#Coordinates\n",
    "coord(df)\n",
    "\n",
    "#Run names\n",
    "runNames(df)\n",
    "\n",
    "#Run data\n",
    "head(run(df))\n",
    "#df is msa, imp to convert to mse as matrix\n",
    "\n",
    "#Visualising data\n",
    "\n",
    "df_mse <-as(df, \"MSImagingExperiment\")\n",
    "\n",
    "# optional Subsetting features by m/z values:\n",
    "#df_mse <- subsetFeatures(df_mse, 1263 < mz, mz > 2460)\n",
    "#head(df_mse)\n",
    "\n",
    "#Visualising specific m/z values\n",
    "\n",
    "mzs <- c( 1578.9015, 1576.8850, 1552.8859, 1265.7135,2442.2211, 1468.7919)\n",
    "mycol1 <- colorRampPalette(c(\"black\", \"green\", \"red\"))(1000)\n",
    "mycol1 <- adjustcolor(mycol1, alpha.f = 0.6)\n",
    "image_a <- image(df_mse, mz=mzs, col=mycol1,  layout=c(3,3))\n",
    "image_a"
   ]
  }
 ],
 "metadata": {
  "kernelspec": {
   "display_name": "Python 3",
   "language": "python",
   "name": "python3"
  },
  "language_info": {
   "codemirror_mode": {
    "name": "ipython",
    "version": 3
   },
   "file_extension": ".py",
   "mimetype": "text/x-python",
   "name": "python",
   "nbconvert_exporter": "python",
   "pygments_lexer": "ipython3",
   "version": "3.11.3"
  }
 },
 "nbformat": 4,
 "nbformat_minor": 2
}
